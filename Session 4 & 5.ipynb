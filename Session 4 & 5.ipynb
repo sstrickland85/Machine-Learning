{
 "cells": [
  {
   "cell_type": "markdown",
   "metadata": {},
   "source": [
    "# Naive Bayes spam filtering"
   ]
  },
  {
   "cell_type": "markdown",
   "metadata": {},
   "source": [
    "###### see pdf file for spam email filter example"
   ]
  },
  {
   "cell_type": "code",
   "execution_count": 129,
   "metadata": {},
   "outputs": [],
   "source": [
    "import pandas as pd\n",
    "import numpy as np\n",
    "import matplotlib.pyplot as plt\n",
    "from collections import Counter"
   ]
  },
  {
   "cell_type": "markdown",
   "metadata": {},
   "source": [
    "NLTK {Natural Language Toolkit} is a set of libraries for Natural Language Processing {NLP}"
   ]
  },
  {
   "cell_type": "code",
   "execution_count": 130,
   "metadata": {},
   "outputs": [
    {
     "name": "stderr",
     "output_type": "stream",
     "text": [
      "[nltk_data] Downloading package stopwords to\n",
      "[nltk_data]     C:\\Users\\strck\\AppData\\Roaming\\nltk_data...\n",
      "[nltk_data]   Package stopwords is already up-to-date!\n"
     ]
    },
    {
     "data": {
      "text/plain": [
       "True"
      ]
     },
     "execution_count": 130,
     "metadata": {},
     "output_type": "execute_result"
    }
   ],
   "source": [
    "import nltk\n",
    "nltk.download('stopwords')"
   ]
  },
  {
   "cell_type": "markdown",
   "metadata": {},
   "source": [
    "Stop words are the most common words in a language which don't carry much information. We will filter them before NLP."
   ]
  },
  {
   "cell_type": "code",
   "execution_count": 131,
   "metadata": {},
   "outputs": [
    {
     "name": "stdout",
     "output_type": "stream",
     "text": [
      "['i', 'me', 'my', 'myself', 'we']\n"
     ]
    }
   ],
   "source": [
    "stopwords = nltk.corpus.stopwords.words('english')\n",
    "print(stopwords[:5])"
   ]
  },
  {
   "cell_type": "markdown",
   "metadata": {},
   "source": [
    "A word can have many variation with the same meaning. We will use stem package to normalize the words."
   ]
  },
  {
   "cell_type": "code",
   "execution_count": 132,
   "metadata": {},
   "outputs": [
    {
     "data": {
      "text/plain": [
       "('cook', 'cook')"
      ]
     },
     "execution_count": 132,
     "metadata": {},
     "output_type": "execute_result"
    }
   ],
   "source": [
    "from nltk.stem import PorterStemmer\n",
    "Ps = PorterStemmer()\n",
    "Ps.stem('cook'), Ps.stem('cooking') #returning the root word"
   ]
  },
  {
   "cell_type": "markdown",
   "metadata": {},
   "source": [
    "We also need to remove punctuations, they are not informative in our classification"
   ]
  },
  {
   "cell_type": "code",
   "execution_count": 133,
   "metadata": {},
   "outputs": [
    {
     "name": "stdout",
     "output_type": "stream",
     "text": [
      "!\"#$%&'()*+,-./:;<=>?@[\\]^_`{|}~\n"
     ]
    }
   ],
   "source": [
    "import string\n",
    "punctuations = string.punctuation\n",
    "print(punctuations)"
   ]
  },
  {
   "cell_type": "markdown",
   "metadata": {},
   "source": [
    "Load the data:"
   ]
  },
  {
   "cell_type": "code",
   "execution_count": 134,
   "metadata": {},
   "outputs": [],
   "source": [
    "data = pd.read_csv('spam.csv')"
   ]
  },
  {
   "cell_type": "code",
   "execution_count": 135,
   "metadata": {},
   "outputs": [
    {
     "data": {
      "text/html": [
       "<div>\n",
       "<style scoped>\n",
       "    .dataframe tbody tr th:only-of-type {\n",
       "        vertical-align: middle;\n",
       "    }\n",
       "\n",
       "    .dataframe tbody tr th {\n",
       "        vertical-align: top;\n",
       "    }\n",
       "\n",
       "    .dataframe thead th {\n",
       "        text-align: right;\n",
       "    }\n",
       "</style>\n",
       "<table border=\"1\" class=\"dataframe\">\n",
       "  <thead>\n",
       "    <tr style=\"text-align: right;\">\n",
       "      <th></th>\n",
       "      <th>Class</th>\n",
       "      <th>Text</th>\n",
       "    </tr>\n",
       "  </thead>\n",
       "  <tbody>\n",
       "    <tr>\n",
       "      <th>0</th>\n",
       "      <td>ham</td>\n",
       "      <td>Go until jurong point, crazy.. Available only ...</td>\n",
       "    </tr>\n",
       "    <tr>\n",
       "      <th>1</th>\n",
       "      <td>ham</td>\n",
       "      <td>Ok lar... Joking wif u oni...</td>\n",
       "    </tr>\n",
       "    <tr>\n",
       "      <th>2</th>\n",
       "      <td>spam</td>\n",
       "      <td>Free entry in 2 a wkly comp to win FA Cup fina...</td>\n",
       "    </tr>\n",
       "    <tr>\n",
       "      <th>3</th>\n",
       "      <td>ham</td>\n",
       "      <td>U dun say so early hor... U c already then say...</td>\n",
       "    </tr>\n",
       "    <tr>\n",
       "      <th>4</th>\n",
       "      <td>ham</td>\n",
       "      <td>Nah I don't think he goes to usf, he lives aro...</td>\n",
       "    </tr>\n",
       "  </tbody>\n",
       "</table>\n",
       "</div>"
      ],
      "text/plain": [
       "  Class                                               Text\n",
       "0   ham  Go until jurong point, crazy.. Available only ...\n",
       "1   ham                      Ok lar... Joking wif u oni...\n",
       "2  spam  Free entry in 2 a wkly comp to win FA Cup fina...\n",
       "3   ham  U dun say so early hor... U c already then say...\n",
       "4   ham  Nah I don't think he goes to usf, he lives aro..."
      ]
     },
     "execution_count": 135,
     "metadata": {},
     "output_type": "execute_result"
    }
   ],
   "source": [
    "data.head()"
   ]
  },
  {
   "cell_type": "markdown",
   "metadata": {},
   "source": [
    "Change categorical data into numbers"
   ]
  },
  {
   "cell_type": "code",
   "execution_count": 136,
   "metadata": {},
   "outputs": [
    {
     "data": {
      "text/html": [
       "<div>\n",
       "<style scoped>\n",
       "    .dataframe tbody tr th:only-of-type {\n",
       "        vertical-align: middle;\n",
       "    }\n",
       "\n",
       "    .dataframe tbody tr th {\n",
       "        vertical-align: top;\n",
       "    }\n",
       "\n",
       "    .dataframe thead th {\n",
       "        text-align: right;\n",
       "    }\n",
       "</style>\n",
       "<table border=\"1\" class=\"dataframe\">\n",
       "  <thead>\n",
       "    <tr style=\"text-align: right;\">\n",
       "      <th></th>\n",
       "      <th>ham</th>\n",
       "      <th>spam</th>\n",
       "    </tr>\n",
       "  </thead>\n",
       "  <tbody>\n",
       "    <tr>\n",
       "      <th>0</th>\n",
       "      <td>1</td>\n",
       "      <td>0</td>\n",
       "    </tr>\n",
       "    <tr>\n",
       "      <th>1</th>\n",
       "      <td>1</td>\n",
       "      <td>0</td>\n",
       "    </tr>\n",
       "    <tr>\n",
       "      <th>2</th>\n",
       "      <td>0</td>\n",
       "      <td>1</td>\n",
       "    </tr>\n",
       "    <tr>\n",
       "      <th>3</th>\n",
       "      <td>1</td>\n",
       "      <td>0</td>\n",
       "    </tr>\n",
       "    <tr>\n",
       "      <th>4</th>\n",
       "      <td>1</td>\n",
       "      <td>0</td>\n",
       "    </tr>\n",
       "    <tr>\n",
       "      <th>...</th>\n",
       "      <td>...</td>\n",
       "      <td>...</td>\n",
       "    </tr>\n",
       "    <tr>\n",
       "      <th>5164</th>\n",
       "      <td>0</td>\n",
       "      <td>1</td>\n",
       "    </tr>\n",
       "    <tr>\n",
       "      <th>5165</th>\n",
       "      <td>1</td>\n",
       "      <td>0</td>\n",
       "    </tr>\n",
       "    <tr>\n",
       "      <th>5166</th>\n",
       "      <td>1</td>\n",
       "      <td>0</td>\n",
       "    </tr>\n",
       "    <tr>\n",
       "      <th>5167</th>\n",
       "      <td>1</td>\n",
       "      <td>0</td>\n",
       "    </tr>\n",
       "    <tr>\n",
       "      <th>5168</th>\n",
       "      <td>1</td>\n",
       "      <td>0</td>\n",
       "    </tr>\n",
       "  </tbody>\n",
       "</table>\n",
       "<p>5169 rows × 2 columns</p>\n",
       "</div>"
      ],
      "text/plain": [
       "      ham  spam\n",
       "0       1     0\n",
       "1       1     0\n",
       "2       0     1\n",
       "3       1     0\n",
       "4       1     0\n",
       "...   ...   ...\n",
       "5164    0     1\n",
       "5165    1     0\n",
       "5166    1     0\n",
       "5167    1     0\n",
       "5168    1     0\n",
       "\n",
       "[5169 rows x 2 columns]"
      ]
     },
     "execution_count": 136,
     "metadata": {},
     "output_type": "execute_result"
    }
   ],
   "source": [
    "pd.get_dummies(data.Class)"
   ]
  },
  {
   "cell_type": "markdown",
   "metadata": {},
   "source": [
    "We are going to drop the first column of the dummies df because all we care about is detecting spam"
   ]
  },
  {
   "cell_type": "code",
   "execution_count": 137,
   "metadata": {},
   "outputs": [],
   "source": [
    "#dropping the first column of the above df and then assign the spam column to our df\n",
    "data['class_code'] = pd.get_dummies(data.Class, drop_first=True)"
   ]
  },
  {
   "cell_type": "code",
   "execution_count": 138,
   "metadata": {},
   "outputs": [
    {
     "data": {
      "text/html": [
       "<div>\n",
       "<style scoped>\n",
       "    .dataframe tbody tr th:only-of-type {\n",
       "        vertical-align: middle;\n",
       "    }\n",
       "\n",
       "    .dataframe tbody tr th {\n",
       "        vertical-align: top;\n",
       "    }\n",
       "\n",
       "    .dataframe thead th {\n",
       "        text-align: right;\n",
       "    }\n",
       "</style>\n",
       "<table border=\"1\" class=\"dataframe\">\n",
       "  <thead>\n",
       "    <tr style=\"text-align: right;\">\n",
       "      <th></th>\n",
       "      <th>Class</th>\n",
       "      <th>Text</th>\n",
       "      <th>class_code</th>\n",
       "    </tr>\n",
       "  </thead>\n",
       "  <tbody>\n",
       "    <tr>\n",
       "      <th>0</th>\n",
       "      <td>ham</td>\n",
       "      <td>Go until jurong point, crazy.. Available only ...</td>\n",
       "      <td>0</td>\n",
       "    </tr>\n",
       "    <tr>\n",
       "      <th>1</th>\n",
       "      <td>ham</td>\n",
       "      <td>Ok lar... Joking wif u oni...</td>\n",
       "      <td>0</td>\n",
       "    </tr>\n",
       "    <tr>\n",
       "      <th>2</th>\n",
       "      <td>spam</td>\n",
       "      <td>Free entry in 2 a wkly comp to win FA Cup fina...</td>\n",
       "      <td>1</td>\n",
       "    </tr>\n",
       "    <tr>\n",
       "      <th>3</th>\n",
       "      <td>ham</td>\n",
       "      <td>U dun say so early hor... U c already then say...</td>\n",
       "      <td>0</td>\n",
       "    </tr>\n",
       "    <tr>\n",
       "      <th>4</th>\n",
       "      <td>ham</td>\n",
       "      <td>Nah I don't think he goes to usf, he lives aro...</td>\n",
       "      <td>0</td>\n",
       "    </tr>\n",
       "  </tbody>\n",
       "</table>\n",
       "</div>"
      ],
      "text/plain": [
       "  Class                                               Text  class_code\n",
       "0   ham  Go until jurong point, crazy.. Available only ...           0\n",
       "1   ham                      Ok lar... Joking wif u oni...           0\n",
       "2  spam  Free entry in 2 a wkly comp to win FA Cup fina...           1\n",
       "3   ham  U dun say so early hor... U c already then say...           0\n",
       "4   ham  Nah I don't think he goes to usf, he lives aro...           0"
      ]
     },
     "execution_count": 138,
     "metadata": {},
     "output_type": "execute_result"
    }
   ],
   "source": [
    "data.head()"
   ]
  },
  {
   "cell_type": "code",
   "execution_count": 139,
   "metadata": {},
   "outputs": [
    {
     "name": "stdout",
     "output_type": "stream",
     "text": [
      "<class 'pandas.core.frame.DataFrame'>\n",
      "RangeIndex: 5169 entries, 0 to 5168\n",
      "Data columns (total 3 columns):\n",
      " #   Column      Non-Null Count  Dtype \n",
      "---  ------      --------------  ----- \n",
      " 0   Class       5169 non-null   object\n",
      " 1   Text        5169 non-null   object\n",
      " 2   class_code  5169 non-null   uint8 \n",
      "dtypes: object(2), uint8(1)\n",
      "memory usage: 85.9+ KB\n"
     ]
    }
   ],
   "source": [
    "data.info()"
   ]
  },
  {
   "cell_type": "code",
   "execution_count": 140,
   "metadata": {},
   "outputs": [],
   "source": [
    "def train_test_split(dataframe, test_size=0.3, rs=None):\n",
    "    \"\"\"\n",
    "    A function which takes pandas dataframe and splits it into a train and test samples. The rs=None gives us a random seed \n",
    "    each time. If you want to replicate the results then this must be set to a value otherwise the results will be different\n",
    "    each time.\"\"\"\n",
    "    \n",
    "    dataframe_test = dataframe.sample(frac=test_size, random_state=rs) #using the sample function to take a sample from the passed df\n",
    "    dataframe_train = dataframe.loc[dataframe.index.difference(dataframe_test.index)]\n",
    "    \n",
    "    #must address the order of indicies in the train and test df\n",
    "    return(dataframe_train.reset_index(drop=True), dataframe_test.reset_index(drop=True))"
   ]
  },
  {
   "cell_type": "code",
   "execution_count": 141,
   "metadata": {},
   "outputs": [],
   "source": [
    "df_train, df_test = train_test_split(data, rs=4)"
   ]
  },
  {
   "cell_type": "code",
   "execution_count": 142,
   "metadata": {},
   "outputs": [
    {
     "name": "stdout",
     "output_type": "stream",
     "text": [
      "<class 'pandas.core.frame.DataFrame'>\n",
      "RangeIndex: 3618 entries, 0 to 3617\n",
      "Data columns (total 3 columns):\n",
      " #   Column      Non-Null Count  Dtype \n",
      "---  ------      --------------  ----- \n",
      " 0   Class       3618 non-null   object\n",
      " 1   Text        3618 non-null   object\n",
      " 2   class_code  3618 non-null   uint8 \n",
      "dtypes: object(2), uint8(1)\n",
      "memory usage: 60.2+ KB\n"
     ]
    }
   ],
   "source": [
    "df_train.info()"
   ]
  },
  {
   "cell_type": "code",
   "execution_count": 143,
   "metadata": {},
   "outputs": [
    {
     "name": "stdout",
     "output_type": "stream",
     "text": [
      "<class 'pandas.core.frame.DataFrame'>\n",
      "RangeIndex: 1551 entries, 0 to 1550\n",
      "Data columns (total 3 columns):\n",
      " #   Column      Non-Null Count  Dtype \n",
      "---  ------      --------------  ----- \n",
      " 0   Class       1551 non-null   object\n",
      " 1   Text        1551 non-null   object\n",
      " 2   class_code  1551 non-null   uint8 \n",
      "dtypes: object(2), uint8(1)\n",
      "memory usage: 25.9+ KB\n"
     ]
    }
   ],
   "source": [
    "df_test.info()"
   ]
  },
  {
   "cell_type": "markdown",
   "metadata": {},
   "source": [
    "Cleaning one of the text messages as an example"
   ]
  },
  {
   "cell_type": "code",
   "execution_count": 144,
   "metadata": {},
   "outputs": [
    {
     "name": "stdout",
     "output_type": "stream",
     "text": [
      "Your gonna have to pick up a $1 burger for yourself on your way home. I can't even move. Pain is killing me.\n"
     ]
    }
   ],
   "source": [
    "message = df_train.Text[46]\n",
    "print(message)"
   ]
  },
  {
   "cell_type": "code",
   "execution_count": 145,
   "metadata": {},
   "outputs": [],
   "source": [
    "# convert to lower case\n",
    "message = message.lower()"
   ]
  },
  {
   "cell_type": "code",
   "execution_count": 146,
   "metadata": {},
   "outputs": [
    {
     "data": {
      "text/plain": [
       "'your gonna have to pick up a 1 burger for yourself on your way home i cant even move pain is killing me'"
      ]
     },
     "execution_count": 146,
     "metadata": {},
     "output_type": "execute_result"
    }
   ],
   "source": [
    "# remove all punctuation\n",
    "message = \"\".join([x for x in message if x not in punctuations]) #the join method puts it back in sentence form\n",
    "message"
   ]
  },
  {
   "cell_type": "code",
   "execution_count": 147,
   "metadata": {},
   "outputs": [
    {
     "name": "stdout",
     "output_type": "stream",
     "text": [
      "['gonna', 'pick', '1', 'burger', 'way', 'home', 'cant', 'even', 'move', 'pain', 'killing']\n"
     ]
    }
   ],
   "source": [
    "message = [x for x in message.split() if x not in stopwords]\n",
    "print(message)"
   ]
  },
  {
   "cell_type": "code",
   "execution_count": 148,
   "metadata": {},
   "outputs": [
    {
     "name": "stdout",
     "output_type": "stream",
     "text": [
      "['gonna', 'pick', '1', 'burger', 'way', 'home', 'cant', 'even', 'move', 'pain', 'kill']\n"
     ]
    }
   ],
   "source": [
    "message=[Ps.stem(x) for x in message]\n",
    "print(message) # compare output with previous line"
   ]
  },
  {
   "cell_type": "code",
   "execution_count": 149,
   "metadata": {},
   "outputs": [
    {
     "name": "stdout",
     "output_type": "stream",
     "text": [
      "Counter({'gonna': 1, 'pick': 1, '1': 1, 'burger': 1, 'way': 1, 'home': 1, 'cant': 1, 'even': 1, 'move': 1, 'pain': 1, 'kill': 1})\n"
     ]
    }
   ],
   "source": [
    "print(Counter(message))"
   ]
  },
  {
   "cell_type": "markdown",
   "metadata": {},
   "source": [
    "Now put them together in a function to perform the cleanup on every line in the df"
   ]
  },
  {
   "cell_type": "code",
   "execution_count": 150,
   "metadata": {},
   "outputs": [],
   "source": [
    "def clean_message(message):\n",
    "    \"\"\"A function to clean the message and return a dictionary with bag of their occurance rate.\"\"\"\n",
    "    message = message.lower()\n",
    "    message = \"\".join([x for x in message if x not in punctuations])\n",
    "    message = [x for x in message.split() if x not in stopwords]\n",
    "    message=[Ps.stem(x) for x in message]\n",
    "    return(Counter(message))"
   ]
  },
  {
   "cell_type": "code",
   "execution_count": 151,
   "metadata": {},
   "outputs": [
    {
     "name": "stdout",
     "output_type": "stream",
     "text": [
      "What is the plural of the noun research?\n",
      "Counter({'plural': 1, 'noun': 1, 'research': 1})\n"
     ]
    }
   ],
   "source": [
    "print(df_train.Text[80])\n",
    "print(clean_message(df_train.Text[80]))"
   ]
  },
  {
   "cell_type": "markdown",
   "metadata": {},
   "source": [
    "Apply the function to entire training data set"
   ]
  },
  {
   "cell_type": "code",
   "execution_count": 152,
   "metadata": {},
   "outputs": [
    {
     "data": {
      "text/html": [
       "<div>\n",
       "<style scoped>\n",
       "    .dataframe tbody tr th:only-of-type {\n",
       "        vertical-align: middle;\n",
       "    }\n",
       "\n",
       "    .dataframe tbody tr th {\n",
       "        vertical-align: top;\n",
       "    }\n",
       "\n",
       "    .dataframe thead th {\n",
       "        text-align: right;\n",
       "    }\n",
       "</style>\n",
       "<table border=\"1\" class=\"dataframe\">\n",
       "  <thead>\n",
       "    <tr style=\"text-align: right;\">\n",
       "      <th></th>\n",
       "      <th>Class</th>\n",
       "      <th>Text</th>\n",
       "      <th>class_code</th>\n",
       "      <th>bag_of_words</th>\n",
       "    </tr>\n",
       "  </thead>\n",
       "  <tbody>\n",
       "    <tr>\n",
       "      <th>0</th>\n",
       "      <td>ham</td>\n",
       "      <td>Go until jurong point, crazy.. Available only ...</td>\n",
       "      <td>0</td>\n",
       "      <td>{'go': 1, 'jurong': 1, 'point': 1, 'crazi': 1,...</td>\n",
       "    </tr>\n",
       "    <tr>\n",
       "      <th>1</th>\n",
       "      <td>ham</td>\n",
       "      <td>Ok lar... Joking wif u oni...</td>\n",
       "      <td>0</td>\n",
       "      <td>{'ok': 1, 'lar': 1, 'joke': 1, 'wif': 1, 'u': ...</td>\n",
       "    </tr>\n",
       "    <tr>\n",
       "      <th>2</th>\n",
       "      <td>ham</td>\n",
       "      <td>U dun say so early hor... U c already then say...</td>\n",
       "      <td>0</td>\n",
       "      <td>{'u': 2, 'dun': 1, 'say': 2, 'earli': 1, 'hor'...</td>\n",
       "    </tr>\n",
       "    <tr>\n",
       "      <th>3</th>\n",
       "      <td>spam</td>\n",
       "      <td>FreeMsg Hey there darling it's been 3 week's n...</td>\n",
       "      <td>1</td>\n",
       "      <td>{'freemsg': 1, 'hey': 1, 'darl': 1, '3': 1, 'w...</td>\n",
       "    </tr>\n",
       "    <tr>\n",
       "      <th>4</th>\n",
       "      <td>ham</td>\n",
       "      <td>Even my brother is not like to speak with me. ...</td>\n",
       "      <td>0</td>\n",
       "      <td>{'even': 1, 'brother': 1, 'like': 2, 'speak': ...</td>\n",
       "    </tr>\n",
       "  </tbody>\n",
       "</table>\n",
       "</div>"
      ],
      "text/plain": [
       "  Class                                               Text  class_code  \\\n",
       "0   ham  Go until jurong point, crazy.. Available only ...           0   \n",
       "1   ham                      Ok lar... Joking wif u oni...           0   \n",
       "2   ham  U dun say so early hor... U c already then say...           0   \n",
       "3  spam  FreeMsg Hey there darling it's been 3 week's n...           1   \n",
       "4   ham  Even my brother is not like to speak with me. ...           0   \n",
       "\n",
       "                                        bag_of_words  \n",
       "0  {'go': 1, 'jurong': 1, 'point': 1, 'crazi': 1,...  \n",
       "1  {'ok': 1, 'lar': 1, 'joke': 1, 'wif': 1, 'u': ...  \n",
       "2  {'u': 2, 'dun': 1, 'say': 2, 'earli': 1, 'hor'...  \n",
       "3  {'freemsg': 1, 'hey': 1, 'darl': 1, '3': 1, 'w...  \n",
       "4  {'even': 1, 'brother': 1, 'like': 2, 'speak': ...  "
      ]
     },
     "execution_count": 152,
     "metadata": {},
     "output_type": "execute_result"
    }
   ],
   "source": [
    "df_train['bag_of_words'] = df_train['Text'].apply(clean_message) # apply method applies our function to every row in the Text column of df_train\n",
    "df_train.head()"
   ]
  },
  {
   "cell_type": "code",
   "execution_count": 153,
   "metadata": {},
   "outputs": [],
   "source": [
    "bows = df_train['bag_of_words']"
   ]
  },
  {
   "cell_type": "code",
   "execution_count": 154,
   "metadata": {},
   "outputs": [
    {
     "data": {
      "text/plain": [
       "0       {'go': 1, 'jurong': 1, 'point': 1, 'crazi': 1,...\n",
       "1       {'ok': 1, 'lar': 1, 'joke': 1, 'wif': 1, 'u': ...\n",
       "2       {'u': 2, 'dun': 1, 'say': 2, 'earli': 1, 'hor'...\n",
       "3       {'freemsg': 1, 'hey': 1, 'darl': 1, '3': 1, 'w...\n",
       "4       {'even': 1, 'brother': 1, 'like': 2, 'speak': ...\n",
       "                              ...                        \n",
       "3613    {'ard': 1, '6': 1, 'like': 1, 'dat': 1, 'lor': 1}\n",
       "3614    {'remind': 1, 'o2': 1, 'get': 1, '250': 1, 'po...\n",
       "3615    {'2nd': 1, 'time': 1, 'tri': 1, '2': 2, 'conta...\n",
       "3616     {'piti': 1, 'mood': 1, 'soani': 1, 'suggest': 1}\n",
       "3617                    {'rofl': 1, 'true': 1, 'name': 1}\n",
       "Name: bag_of_words, Length: 3618, dtype: object"
      ]
     },
     "execution_count": 154,
     "metadata": {},
     "output_type": "execute_result"
    }
   ],
   "source": [
    "bows"
   ]
  },
  {
   "cell_type": "code",
   "execution_count": 155,
   "metadata": {},
   "outputs": [
    {
     "name": "stdout",
     "output_type": "stream",
     "text": [
      "0       {'go': 1, 'jurong': 1, 'point': 1, 'crazi': 1,...\n",
      "1       {'ok': 1, 'lar': 1, 'joke': 1, 'wif': 1, 'u': ...\n",
      "2       {'u': 2, 'dun': 1, 'say': 2, 'earli': 1, 'hor'...\n",
      "4       {'even': 1, 'brother': 1, 'like': 2, 'speak': ...\n",
      "5       {'per': 1, 'request': 1, 'mell': 2, 'oru': 1, ...\n",
      "                              ...                        \n",
      "3611    {'arent': 1, 'next': 1, 'ltgt': 1, 'hour': 1, ...\n",
      "3612    {'get': 1, 'dump': 1, 'heap': 1, 'mom': 1, 'de...\n",
      "3613    {'ard': 1, '6': 1, 'like': 1, 'dat': 1, 'lor': 1}\n",
      "3616     {'piti': 1, 'mood': 1, 'soani': 1, 'suggest': 1}\n",
      "3617                    {'rofl': 1, 'true': 1, 'name': 1}\n",
      "Name: bag_of_words, Length: 3144, dtype: object\n"
     ]
    }
   ],
   "source": [
    "# only using the training data\n",
    "# get ham bag_of_words rows i.e. where class_code == 0\n",
    "bows_ham = df_train[df_train['class_code']==0].bag_of_words\n",
    "print(bows_ham)\n",
    "\n",
    "# repeat for spam i.e. class_code == 1\n",
    "bows_spam = df_train[df_train['class_code']==1].bag_of_words"
   ]
  },
  {
   "cell_type": "code",
   "execution_count": 156,
   "metadata": {},
   "outputs": [],
   "source": [
    "# generate a list of all the words in the bag_of_words column\n",
    "words = list(set().union(*bows))"
   ]
  },
  {
   "cell_type": "code",
   "execution_count": 157,
   "metadata": {},
   "outputs": [],
   "source": [
    "freq_ham = {key: 1 for key in words}\n",
    "\n",
    "\n",
    "for word in words: #iterate over every word in the words list\n",
    "    for bow in bows_ham: #iterate over key:value pair in bows_ham\n",
    "        if word in bow.keys(): #if the word is a keys for bows_ham \n",
    "            freq_ham[word] += bow[word] # adds the bows_ham key (count) to the initialized freq_ham key (count)"
   ]
  },
  {
   "cell_type": "code",
   "execution_count": 158,
   "metadata": {},
   "outputs": [
    {
     "data": {
      "text/plain": [
       "2"
      ]
     },
     "execution_count": 158,
     "metadata": {},
     "output_type": "execute_result"
    }
   ],
   "source": [
    "freq_ham['flea']"
   ]
  },
  {
   "cell_type": "code",
   "execution_count": 159,
   "metadata": {},
   "outputs": [],
   "source": [
    "freq_spam = {key: 1 for key in words}\n",
    "\n",
    "for word in words:\n",
    "    for bow in bows_spam:\n",
    "        if word in bow.keys():\n",
    "            freq_spam[word] += bow[word]"
   ]
  },
  {
   "cell_type": "code",
   "execution_count": 160,
   "metadata": {},
   "outputs": [
    {
     "data": {
      "text/plain": [
       "143"
      ]
     },
     "execution_count": 160,
     "metadata": {},
     "output_type": "execute_result"
    }
   ],
   "source": [
    "freq_spam['free']"
   ]
  },
  {
   "cell_type": "markdown",
   "metadata": {},
   "source": [
    "Probability of a word given that the text is ham or spam (likelihood)"
   ]
  },
  {
   "cell_type": "code",
   "execution_count": 161,
   "metadata": {},
   "outputs": [
    {
     "data": {
      "text/plain": [
       "0.018320328162107147"
      ]
     },
     "execution_count": 161,
     "metadata": {},
     "output_type": "execute_result"
    }
   ],
   "source": [
    "P_word_h = {}\n",
    "P_word_s = {}\n",
    "\n",
    "for key in freq_ham:\n",
    "    P_word_h[key] = freq_ham[key] / sum(freq_ham.values())\n",
    "    \n",
    "for key in freq_spam:\n",
    "    P_word_s[key] = freq_spam[key] / sum(freq_spam.values())\n",
    "    \n",
    "max(P_word_h.values()) # figure out how to find the corresponding key"
   ]
  },
  {
   "cell_type": "markdown",
   "metadata": {},
   "source": [
    "Finding the priors"
   ]
  },
  {
   "cell_type": "code",
   "execution_count": 162,
   "metadata": {},
   "outputs": [
    {
     "name": "stdout",
     "output_type": "stream",
     "text": [
      "0.8689883913764511 0.1310116086235489\n"
     ]
    }
   ],
   "source": [
    "P_h = bows_ham.size / bows.size\n",
    "P_s = bows_spam.size / bows.size\n",
    "print(P_h, P_s)"
   ]
  },
  {
   "cell_type": "markdown",
   "metadata": {},
   "source": [
    "Define the main classifier function"
   ]
  },
  {
   "cell_type": "code",
   "execution_count": 163,
   "metadata": {},
   "outputs": [],
   "source": [
    "def classifier_nb(doc):\n",
    "    \"\"\"A function that performs a naive bayes classification for spam vs ham emails.\"\"\"\n",
    "    #create bag of words\n",
    "    doc_bag_of_words = clean_message(doc)\n",
    "    \n",
    "    #initialize posterior\n",
    "    P_doc_h = 1\n",
    "    P_doc_s = 1\n",
    "    \n",
    "    #likelihood\n",
    "    for key in doc_bag_of_words:\n",
    "        if key in words:\n",
    "            P_doc_h = P_doc_h * P_word_h[key]\n",
    "            P_doc_s = P_doc_s * P_word_s[key]\n",
    "            \n",
    "    #multipliying by prior to get unnormalized posterior\n",
    "    P_doc_h = P_doc_h * P_h\n",
    "    P_doc_s = P_doc_s * P_s\n",
    "    \n",
    "    #normalize the posterior\n",
    "    P_doc_h_normalized = P_doc_h / (P_doc_h + P_doc_s)\n",
    "    \n",
    "    if P_doc_h_normalized > 0.5:\n",
    "        return(0)\n",
    "    else:\n",
    "        return(1)\n",
    "\n",
    "classifier_nb = np.vectorize(classifier_nb)"
   ]
  },
  {
   "cell_type": "code",
   "execution_count": 164,
   "metadata": {},
   "outputs": [
    {
     "data": {
      "text/plain": [
       "array(1)"
      ]
     },
     "execution_count": 164,
     "metadata": {},
     "output_type": "execute_result"
    }
   ],
   "source": [
    "classifier_nb('Congratulations! You won $500.')"
   ]
  },
  {
   "cell_type": "code",
   "execution_count": 165,
   "metadata": {},
   "outputs": [
    {
     "data": {
      "text/plain": [
       "array(0)"
      ]
     },
     "execution_count": 165,
     "metadata": {},
     "output_type": "execute_result"
    }
   ],
   "source": [
    "classifier_nb(\"Let's apply this model to the test sample\")"
   ]
  },
  {
   "cell_type": "code",
   "execution_count": 166,
   "metadata": {},
   "outputs": [],
   "source": [
    "predictions = classifier_nb(df_test['Text'].values)"
   ]
  },
  {
   "cell_type": "code",
   "execution_count": 167,
   "metadata": {},
   "outputs": [],
   "source": [
    "# defining the truth\n",
    "T = df_test['class_code']"
   ]
  },
  {
   "cell_type": "code",
   "execution_count": 168,
   "metadata": {},
   "outputs": [],
   "source": [
    "TP, TN, FP, FN = 0,0,0,0\n",
    "\n",
    "for i in range(len(T)):\n",
    "    if T[i] == 1:\n",
    "        if predictions[i] == 1:\n",
    "            TP += 1\n",
    "        if predictions[i] == 0:\n",
    "            FN += 1\n",
    "    elif T[i] == 0:\n",
    "        if predictions[i] == 1:\n",
    "            FP += 1\n",
    "        if predictions[i] == 0:\n",
    "            TN += 1"
   ]
  },
  {
   "cell_type": "markdown",
   "metadata": {},
   "source": [
    "Confusion matrix"
   ]
  },
  {
   "cell_type": "code",
   "execution_count": 170,
   "metadata": {},
   "outputs": [
    {
     "name": "stdout",
     "output_type": "stream",
     "text": [
      "[[ 158    9]\n",
      " [  21 1363]]\n"
     ]
    }
   ],
   "source": [
    "print(np.array([[TP, FP], [FN, TN]]))"
   ]
  },
  {
   "cell_type": "code",
   "execution_count": 179,
   "metadata": {},
   "outputs": [
    {
     "name": "stdout",
     "output_type": "stream",
     "text": [
      "precision: 0.9461077844311377\n",
      "recall: 0.88268156424581\n"
     ]
    }
   ],
   "source": [
    "# calculate precision and recall/sensitivity\n",
    "precision = TP / (TP + FP)\n",
    "recall = TP / (TP + FN)\n",
    "#print(\"precison {s}\".format(precision)) learn how to print like this\n",
    "print(\"precision:\", precision)\n",
    "print(\"recall:\", recall)"
   ]
  },
  {
   "cell_type": "code",
   "execution_count": 177,
   "metadata": {},
   "outputs": [
    {
     "name": "stdout",
     "output_type": "stream",
     "text": [
      "F1_score: 0.9132947976878613\n"
     ]
    }
   ],
   "source": [
    "F1_score = 2*precision*recall / (precision+recall)\n",
    "print(\"F1_score:\", F1_score)"
   ]
  }
 ],
 "metadata": {
  "kernelspec": {
   "display_name": "PHYS247",
   "language": "python",
   "name": "phys247"
  },
  "language_info": {
   "codemirror_mode": {
    "name": "ipython",
    "version": 3
   },
   "file_extension": ".py",
   "mimetype": "text/x-python",
   "name": "python",
   "nbconvert_exporter": "python",
   "pygments_lexer": "ipython3",
   "version": "3.8.2"
  }
 },
 "nbformat": 4,
 "nbformat_minor": 4
}
